{
  "nbformat": 4,
  "nbformat_minor": 0,
  "metadata": {
    "colab": {
      "name": "Final project.ipynb",
      "provenance": [],
      "collapsed_sections": []
    },
    "kernelspec": {
      "name": "python3",
      "display_name": "Python 3"
    }
  },
  "cells": [
    {
      "cell_type": "code",
      "metadata": {
        "id": "Oq0q1NIb1gW7",
        "colab_type": "code",
        "colab": {
          "base_uri": "https://localhost:8080/",
          "height": 1000
        },
        "outputId": "a2098175-6f55-4186-be14-48fe84024e2c"
      },
      "source": [
        "from sklearn.datasets import fetch_openml \n",
        "import matplotlib.pyplot as plt\n",
        "from scipy import stats\n",
        "import numpy as np\n",
        "%matplotlib inline\n",
        "import math\n",
        "\n",
        "credit = fetch_openml('credit-g', cache=False)\n",
        "\n",
        "X = credit.data\n",
        "y = credit.target\n",
        "\n",
        "print(X)\n",
        "print(y)\n",
        "\n",
        "features = [1, 2, 4, 5, 6, 8, 12, 15, 16]\n",
        "\n",
        "heart = np.empty((X.shape[0], len(features)))\n",
        "for i in range (len(features)):\n",
        "  heart[:, i] = X[:, features[i]]\n",
        "print(heart.shape)\n",
        "X = heart\n",
        "#X = credit.data\n",
        "for i in range(y.shape[0]):\n",
        "  if y[i] == 'good':\n",
        "    y[i] = 1\n",
        "  else:\n",
        "    y[i] = 0\n",
        "#1, 16, 4, 5\n",
        "print('The shape of X is: ', X.shape)\n",
        "print('The shape of y is: ', y.shape)\n"
      ],
      "execution_count": null,
      "outputs": [
        {
          "output_type": "stream",
          "text": [
            "[[ 0.  6.  4. ...  1.  1.  0.]\n",
            " [ 1. 48.  2. ...  1.  0.  0.]\n",
            " [ 3. 12.  4. ...  2.  0.  0.]\n",
            " ...\n",
            " [ 3. 12.  2. ...  1.  0.  0.]\n",
            " [ 0. 45.  2. ...  1.  1.  0.]\n",
            " [ 1. 45.  4. ...  1.  0.  0.]]\n",
            "['good' 'bad' 'good' 'good' 'bad' 'good' 'good' 'good' 'good' 'bad' 'bad'\n",
            " 'bad' 'good' 'bad' 'good' 'bad' 'good' 'good' 'bad' 'good' 'good' 'good'\n",
            " 'good' 'good' 'good' 'good' 'good' 'good' 'good' 'bad' 'good' 'good'\n",
            " 'good' 'good' 'good' 'bad' 'good' 'bad' 'good' 'good' 'good' 'good'\n",
            " 'good' 'good' 'bad' 'good' 'good' 'good' 'good' 'good' 'good' 'good'\n",
            " 'good' 'good' 'bad' 'good' 'bad' 'good' 'good' 'bad' 'good' 'good' 'bad'\n",
            " 'bad' 'good' 'good' 'good' 'good' 'bad' 'good' 'good' 'good' 'good'\n",
            " 'good' 'bad' 'good' 'bad' 'good' 'good' 'good' 'bad' 'good' 'good' 'good'\n",
            " 'good' 'good' 'good' 'bad' 'good' 'bad' 'good' 'good' 'bad' 'good' 'good'\n",
            " 'bad' 'good' 'good' 'good' 'good' 'good' 'good' 'good' 'good' 'good'\n",
            " 'bad' 'bad' 'good' 'good' 'good' 'good' 'good' 'good' 'bad' 'good' 'good'\n",
            " 'bad' 'good' 'bad' 'good' 'bad' 'good' 'good' 'good' 'bad' 'good' 'good'\n",
            " 'bad' 'good' 'bad' 'good' 'bad' 'good' 'good' 'good' 'good' 'good' 'bad'\n",
            " 'good' 'good' 'good' 'good' 'good' 'bad' 'good' 'good' 'good' 'good'\n",
            " 'good' 'good' 'good' 'good' 'good' 'good' 'good' 'bad' 'good' 'good'\n",
            " 'good' 'good' 'good' 'good' 'good' 'good' 'good' 'good' 'bad' 'good'\n",
            " 'good' 'bad' 'bad' 'good' 'bad' 'good' 'bad' 'bad' 'good' 'good' 'good'\n",
            " 'good' 'bad' 'bad' 'bad' 'good' 'bad' 'good' 'bad' 'good' 'bad' 'good'\n",
            " 'bad' 'bad' 'bad' 'good' 'bad' 'bad' 'good' 'bad' 'good' 'bad' 'good'\n",
            " 'good' 'good' 'bad' 'good' 'good' 'good' 'good' 'good' 'good' 'good'\n",
            " 'good' 'bad' 'bad' 'good' 'good' 'good' 'good' 'good' 'good' 'good'\n",
            " 'good' 'good' 'good' 'good' 'good' 'bad' 'bad' 'bad' 'good' 'bad' 'good'\n",
            " 'good' 'good' 'good' 'bad' 'bad' 'bad' 'good' 'good' 'bad' 'good' 'bad'\n",
            " 'good' 'good' 'good' 'good' 'good' 'good' 'bad' 'good' 'good' 'bad'\n",
            " 'good' 'good' 'good' 'good' 'bad' 'good' 'good' 'good' 'good' 'good'\n",
            " 'good' 'good' 'bad' 'good' 'good' 'bad' 'good' 'good' 'good' 'good' 'bad'\n",
            " 'bad' 'good' 'good' 'good' 'bad' 'good' 'good' 'good' 'good' 'good'\n",
            " 'good' 'good' 'good' 'good' 'good' 'bad' 'good' 'bad' 'good' 'good'\n",
            " 'good' 'bad' 'good' 'good' 'good' 'good' 'good' 'bad' 'bad' 'good' 'bad'\n",
            " 'good' 'good' 'bad' 'bad' 'good' 'good' 'good' 'good' 'bad' 'good' 'bad'\n",
            " 'good' 'good' 'good' 'good' 'bad' 'bad' 'good' 'good' 'good' 'good'\n",
            " 'good' 'good' 'good' 'good' 'good' 'bad' 'bad' 'bad' 'bad' 'bad' 'good'\n",
            " 'bad' 'good' 'good' 'good' 'good' 'good' 'good' 'good' 'good' 'good'\n",
            " 'good' 'good' 'bad' 'good' 'bad' 'good' 'bad' 'good' 'bad' 'good' 'bad'\n",
            " 'good' 'bad' 'good' 'good' 'good' 'good' 'bad' 'good' 'good' 'good' 'bad'\n",
            " 'good' 'good' 'good' 'good' 'good' 'bad' 'bad' 'good' 'good' 'bad' 'good'\n",
            " 'good' 'bad' 'good' 'good' 'good' 'good' 'good' 'good' 'good' 'good'\n",
            " 'good' 'good' 'good' 'good' 'good' 'good' 'good' 'good' 'bad' 'good'\n",
            " 'good' 'good' 'bad' 'good' 'good' 'bad' 'good' 'good' 'good' 'bad' 'good'\n",
            " 'good' 'bad' 'good' 'bad' 'good' 'bad' 'good' 'good' 'bad' 'good' 'good'\n",
            " 'good' 'good' 'bad' 'good' 'good' 'good' 'good' 'bad' 'good' 'bad' 'good'\n",
            " 'good' 'good' 'bad' 'good' 'good' 'good' 'bad' 'good' 'good' 'good' 'bad'\n",
            " 'bad' 'good' 'bad' 'good' 'good' 'bad' 'good' 'good' 'good' 'good' 'bad'\n",
            " 'good' 'good' 'bad' 'good' 'good' 'good' 'good' 'good' 'good' 'good'\n",
            " 'good' 'bad' 'good' 'good' 'good' 'bad' 'bad' 'bad' 'good' 'bad' 'bad'\n",
            " 'good' 'good' 'good' 'good' 'good' 'good' 'good' 'good' 'good' 'bad'\n",
            " 'good' 'good' 'good' 'good' 'good' 'bad' 'good' 'good' 'good' 'bad' 'bad'\n",
            " 'good' 'good' 'good' 'bad' 'good' 'good' 'bad' 'bad' 'bad' 'good' 'bad'\n",
            " 'good' 'good' 'bad' 'good' 'good' 'good' 'good' 'good' 'good' 'bad'\n",
            " 'good' 'good' 'good' 'bad' 'bad' 'good' 'good' 'good' 'good' 'good' 'bad'\n",
            " 'good' 'good' 'bad' 'good' 'good' 'good' 'bad' 'good' 'good' 'bad' 'good'\n",
            " 'bad' 'good' 'bad' 'bad' 'good' 'bad' 'good' 'good' 'bad' 'good' 'good'\n",
            " 'good' 'bad' 'good' 'good' 'bad' 'bad' 'bad' 'bad' 'bad' 'good' 'bad'\n",
            " 'good' 'bad' 'good' 'good' 'bad' 'good' 'good' 'bad' 'bad' 'good' 'good'\n",
            " 'good' 'good' 'good' 'good' 'good' 'bad' 'good' 'bad' 'good' 'good' 'bad'\n",
            " 'good' 'bad' 'good' 'good' 'bad' 'bad' 'good' 'good' 'good' 'bad' 'bad'\n",
            " 'bad' 'bad' 'bad' 'bad' 'good' 'good' 'bad' 'bad' 'bad' 'good' 'good'\n",
            " 'good' 'bad' 'good' 'good' 'bad' 'bad' 'good' 'good' 'bad' 'good' 'good'\n",
            " 'good' 'bad' 'good' 'good' 'bad' 'bad' 'good' 'bad' 'good' 'good' 'bad'\n",
            " 'good' 'good' 'good' 'bad' 'good' 'bad' 'bad' 'good' 'good' 'good' 'good'\n",
            " 'bad' 'bad' 'good' 'bad' 'good' 'good' 'bad' 'good' 'bad' 'bad' 'bad'\n",
            " 'good' 'bad' 'bad' 'bad' 'good' 'good' 'bad' 'good' 'good' 'good' 'good'\n",
            " 'bad' 'good' 'good' 'good' 'good' 'good' 'good' 'bad' 'good' 'good'\n",
            " 'good' 'good' 'good' 'bad' 'good' 'good' 'bad' 'good' 'good' 'good'\n",
            " 'good' 'good' 'good' 'good' 'good' 'good' 'good' 'good' 'good' 'good'\n",
            " 'good' 'good' 'good' 'good' 'good' 'good' 'good' 'good' 'good' 'bad'\n",
            " 'bad' 'good' 'good' 'good' 'good' 'bad' 'bad' 'good' 'good' 'good' 'bad'\n",
            " 'good' 'good' 'bad' 'good' 'good' 'good' 'good' 'good' 'bad' 'bad' 'bad'\n",
            " 'good' 'bad' 'good' 'good' 'bad' 'bad' 'good' 'good' 'bad' 'good' 'good'\n",
            " 'good' 'good' 'bad' 'good' 'good' 'bad' 'good' 'good' 'good' 'good'\n",
            " 'good' 'good' 'good' 'bad' 'good' 'good' 'good' 'bad' 'good' 'good' 'bad'\n",
            " 'bad' 'good' 'bad' 'good' 'bad' 'good' 'bad' 'good' 'bad' 'good' 'good'\n",
            " 'bad' 'good' 'good' 'good' 'good' 'bad' 'good' 'good' 'good' 'bad' 'good'\n",
            " 'good' 'good' 'good' 'bad' 'good' 'good' 'bad' 'good' 'good' 'good'\n",
            " 'good' 'bad' 'bad' 'bad' 'good' 'good' 'good' 'good' 'good' 'bad' 'good'\n",
            " 'good' 'good' 'good' 'good' 'good' 'good' 'good' 'bad' 'good' 'good'\n",
            " 'good' 'bad' 'good' 'good' 'bad' 'bad' 'bad' 'good' 'good' 'good' 'good'\n",
            " 'bad' 'good' 'good' 'bad' 'good' 'good' 'good' 'bad' 'bad' 'bad' 'good'\n",
            " 'good' 'bad' 'bad' 'good' 'bad' 'bad' 'good' 'good' 'good' 'good' 'bad'\n",
            " 'good' 'bad' 'good' 'good' 'good' 'bad' 'good' 'good' 'bad' 'bad' 'good'\n",
            " 'good' 'bad' 'good' 'good' 'good' 'good' 'bad' 'good' 'good' 'bad' 'bad'\n",
            " 'good' 'bad' 'good' 'good' 'good' 'good' 'good' 'good' 'good' 'good'\n",
            " 'good' 'good' 'good' 'good' 'good' 'bad' 'good' 'good' 'good' 'good'\n",
            " 'good' 'bad' 'bad' 'good' 'bad' 'good' 'good' 'good' 'good' 'good' 'good'\n",
            " 'good' 'good' 'good' 'good' 'good' 'bad' 'bad' 'good' 'good' 'good'\n",
            " 'good' 'good' 'good' 'good' 'good' 'good' 'good' 'bad' 'good' 'good'\n",
            " 'bad' 'bad' 'good' 'bad' 'bad' 'bad' 'good' 'good' 'bad' 'good' 'bad'\n",
            " 'bad' 'good' 'bad' 'good' 'good' 'good' 'bad' 'good' 'good' 'good' 'bad'\n",
            " 'bad' 'good' 'bad' 'good' 'good' 'good' 'good' 'good' 'good' 'good' 'bad'\n",
            " 'good' 'bad' 'bad' 'good' 'bad' 'bad' 'bad' 'good' 'good' 'good' 'good'\n",
            " 'bad' 'good' 'good' 'good' 'good' 'bad' 'good' 'good' 'bad' 'good' 'good'\n",
            " 'good' 'good' 'good' 'bad' 'bad' 'good' 'good' 'good' 'good' 'bad' 'bad'\n",
            " 'bad' 'bad' 'good' 'bad' 'good' 'good' 'good' 'good' 'good' 'good' 'good'\n",
            " 'good' 'good' 'good' 'good' 'good' 'good' 'good' 'bad' 'good']\n",
            "(1000, 9)\n",
            "The shape of X is:  (1000, 9)\n",
            "The shape of y is:  (1000,)\n"
          ],
          "name": "stdout"
        }
      ]
    },
    {
      "cell_type": "code",
      "metadata": {
        "id": "764M_GaO7gO_",
        "colab_type": "code",
        "colab": {
          "base_uri": "https://localhost:8080/",
          "height": 84
        },
        "outputId": "9291533a-70df-4502-8bdc-b00a09aebe4d"
      },
      "source": [
        "Ntotal = X.shape[0]\n",
        "Ntest = X.shape[0]//10\n",
        "Ntrain = Ntotal - Ntest\n",
        "\n",
        "# generate a list of Ntest random indices, without repetitions, in the range of Ntotal\n",
        "# these indices will be the indices of your test data. Use the function np.random.choice()\n",
        "test_idx = np.random.choice(range(Ntotal), Ntest, replace=False)\n",
        "\n",
        "# separate training and testing data\n",
        "X_test = X[test_idx]\n",
        "y_test = y[test_idx]\n",
        "X_train = np.delete(X, test_idx, axis=0)\n",
        "y_train = np.delete(y, test_idx)\n",
        "\n",
        "print('The shape of X_test is: ', X_test.shape)\n",
        "print('The shape of y_test is: ', y_test.shape)\n",
        "print('The shape of X_train is: ', X_train.shape)\n",
        "print('The shape of y_train is: ', y_train.shape)"
      ],
      "execution_count": null,
      "outputs": [
        {
          "output_type": "stream",
          "text": [
            "The shape of X_test is:  (100, 9)\n",
            "The shape of y_test is:  (100,)\n",
            "The shape of X_train is:  (900, 9)\n",
            "The shape of y_train is:  (900,)\n"
          ],
          "name": "stdout"
        }
      ]
    },
    {
      "cell_type": "code",
      "metadata": {
        "id": "1bACOSVv8LC6",
        "colab_type": "code",
        "colab": {}
      },
      "source": [
        "train_idx = np.random.choice(range(Ntrain), Ntrain, replace=False)\n",
        "\n",
        "# now let's iterate over the training data to obtain the \n",
        "# 5 folds\n",
        "Nfolds = 9\n",
        "fold_size = Ntrain//Nfolds\n",
        "X_folds = [] # this will be a list of 5 numpy arrays with datapoints\n",
        "y_folds = [] # this will be a list of 5 numpy arrays with the corresponding labels\n",
        "for i in range(Nfolds):\n",
        "    \n",
        "    X_fold = X_train[train_idx[i*fold_size:i*fold_size+fold_size]]\n",
        "    y_fold = y_train[train_idx[i*fold_size:i*fold_size+fold_size]]\n",
        "\n",
        "    X_folds.append(X_fold)\n",
        "    y_folds.append(y_fold)"
      ],
      "execution_count": null,
      "outputs": []
    },
    {
      "cell_type": "code",
      "metadata": {
        "id": "vq5PTDkH9p0f",
        "colab_type": "code",
        "colab": {}
      },
      "source": [
        "Ks = [1, 11, 21, 51]\n"
      ],
      "execution_count": null,
      "outputs": []
    },
    {
      "cell_type": "code",
      "metadata": {
        "id": "-1WOr9249tGU",
        "colab_type": "code",
        "colab": {}
      },
      "source": [
        "def L1_norm(x, a):\n",
        "  norm = []\n",
        "  for i in x:\n",
        "    dist = 0\n",
        "    for j in range(x.shape[1]):\n",
        "      dist += abs(i[j] - a[j])\n",
        "    norm.append(dist)\n",
        "  return norm\n",
        "\n",
        "def L2_norm(x, a):\n",
        "  norm = []\n",
        "  for i in x:\n",
        "    dist = 0\n",
        "    for j in range(x.shape[1]):\n",
        "      dist += (i[j]-a[j])**2\n",
        "    norm.append(dist ** 1/2)\n",
        "  return norm"
      ],
      "execution_count": null,
      "outputs": []
    },
    {
      "cell_type": "code",
      "metadata": {
        "id": "2a3MaqA1AUN0",
        "colab_type": "code",
        "colab": {
          "base_uri": "https://localhost:8080/",
          "height": 84
        },
        "outputId": "405e64cc-dfa6-41ab-99a6-a3ccf4855270"
      },
      "source": [
        "all_knn_fold_acc = []\n",
        "for k in Ks: \n",
        "    all_fold_acc = []\n",
        "    for ifold in range(Nfolds): \n",
        "        \n",
        "        X_vl = X_folds[ifold]\n",
        "        y_vl = y_folds[ifold]\n",
        "        X_tr = [x for i, x in enumerate(X_folds) if i != ifold] \n",
        "        y_tr = [y for i, y in enumerate(y_folds) if i != ifold]\n",
        "\n",
        "        X_tr = np.vstack(X_tr) \n",
        "        y_tr = np.hstack(y_tr) \n",
        "        \n",
        "        KNN = []\n",
        "        for x_vl in X_vl:\n",
        "          classes = [0, 0]  \n",
        "          all_distances = L2_norm(X_tr,x_vl)          \n",
        "          sorted_distances = sorted([(d,i) for i, d in enumerate(all_distances)])\n",
        "          K_close_examps = sorted_distances[:k]\n",
        "          distances_sum = sum(np.array(K_close_examps)[:,0])\n",
        "          K_close_categories = []\n",
        "          for examp in K_close_examps:\n",
        "            K_close_categories.append(y_tr[examp[1]])  \n",
        "            classes [y_tr [examp  [1] ] ] += 1 - (examp[0] / distances_sum) \n",
        "          if classes[0] > classes[1]:\n",
        "            answer = 0\n",
        "          else:\n",
        "            answer = 1\n",
        "          KNN.append(answer)\n",
        "\n",
        "        correct_count = 0\n",
        "        for iknn, knn in enumerate(KNN):\n",
        "            \n",
        "            if knn == y_vl[iknn]:\n",
        "                correct_count += 1\n",
        "        all_fold_acc.append(correct_count/len(y_vl))\n",
        "        \n",
        "    all_knn_fold_acc.append(all_fold_acc)\n",
        "    print(all_fold_acc)\n"
      ],
      "execution_count": null,
      "outputs": [
        {
          "output_type": "stream",
          "text": [
            "[0.7, 0.74, 0.71, 0.67, 0.65, 0.71, 0.73, 0.69, 0.69]\n",
            "[0.66, 0.71, 0.7, 0.69, 0.6, 0.72, 0.69, 0.66, 0.67]\n",
            "[0.7, 0.76, 0.7, 0.69, 0.66, 0.71, 0.71, 0.68, 0.69]\n",
            "[0.72, 0.76, 0.72, 0.69, 0.67, 0.72, 0.74, 0.68, 0.69]\n"
          ],
          "name": "stdout"
        }
      ]
    },
    {
      "cell_type": "code",
      "metadata": {
        "id": "v4YTxdvipl29",
        "colab_type": "code",
        "colab": {
          "base_uri": "https://localhost:8080/",
          "height": 279
        },
        "outputId": "6f29f47e-2fc8-47db-971f-885de2a5b2b6"
      },
      "source": [
        "# this cell generates a plot that will let you see what the best k\n",
        "# for your model is\n",
        "\n",
        "%matplotlib inline\n",
        "import matplotlib.pyplot as plt\n",
        "\n",
        "plt.plot(Ks,all_knn_fold_acc,'ok')\n",
        "plt.errorbar(Ks,np.mean(all_knn_fold_acc,axis=1),np.std(all_knn_fold_acc,axis=1))\n",
        "plt.xlabel('K')\n",
        "plt.ylabel('Accuracy')\n",
        "plt.show()"
      ],
      "execution_count": null,
      "outputs": [
        {
          "output_type": "display_data",
          "data": {
            "image/png": "[encoded data removed]",
            "text/plain": [
              "<Figure size 432x288 with 1 Axes>"
            ]
          },
          "metadata": {
            "tags": [],
            "needs_background": "light"
          }
        }
      ]
    },
    {
      "cell_type": "code",
      "metadata": {
        "id": "O29qz1F-Gb9S",
        "colab_type": "code",
        "colab": {
          "base_uri": "https://localhost:8080/",
          "height": 34
        },
        "outputId": "57de8d88-4794-4e72-b7e7-afc3acee11d3"
      },
      "source": [
        "KNN = []\n",
        "for x_ts in X_test: # for all datapoints in the validation set\n",
        "    all_distances = L2_norm(X_train,x_ts) # your code here. hint: use your L1 function            \n",
        "    sorted_distances = sorted([(d,i) for i, d in enumerate(all_distances)])\n",
        "    K_close_examps = sorted_distances[:51] # <- watch out for this k, because it has to be\n",
        "                                          # the best from our validation plot\n",
        "    distances_sum = sum(np.array(K_close_examps)[:,0])\n",
        "    # here we are letting the categories\n",
        "    # do the voting\n",
        "    K_close_categories = []\n",
        "    classes = [0, 0]\n",
        "    for examp in K_close_examps:\n",
        "      K_close_categories.append(y_train[examp[1]])  \n",
        "      classes [y_train[examp  [1] ] ] += 1 - examp[0] / distances_sum\n",
        "    if classes[0] > classes[1]:\n",
        "      answer = 0\n",
        "    else:\n",
        "      answer = 1\n",
        "    KNN.append(answer)\n",
        "    correct_count = 0\n",
        "    for iknn, knn in enumerate(KNN):\n",
        "        \n",
        "        if knn == y_test[iknn]:\n",
        "            correct_count += 1\n",
        "print('The test accuracy is: ', correct_count/len(y_test))\n"
      ],
      "execution_count": null,
      "outputs": [
        {
          "output_type": "stream",
          "text": [
            "The test accuracy is:  0.69\n"
          ],
          "name": "stdout"
        }
      ]
    }
  ]
}